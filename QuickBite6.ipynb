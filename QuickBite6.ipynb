{
  "nbformat": 4,
  "nbformat_minor": 0,
  "metadata": {
    "colab": {
      "provenance": [],
      "authorship_tag": "ABX9TyPWbLOpB0QXbTwbKCd1cAAd",
      "include_colab_link": true
    },
    "kernelspec": {
      "name": "python3",
      "display_name": "Python 3"
    },
    "language_info": {
      "name": "python"
    }
  },
  "cells": [
    {
      "cell_type": "markdown",
      "metadata": {
        "id": "view-in-github",
        "colab_type": "text"
      },
      "source": [
        "<a href=\"https://colab.research.google.com/github/NYU-IEP-2022-2023-Assignments/QuickBite6/blob/main/QuickBite6.ipynb\" target=\"_parent\"><img src=\"https://colab.research.google.com/assets/colab-badge.svg\" alt=\"Open In Colab\"/></a>"
      ]
    },
    {
      "cell_type": "code",
      "execution_count": null,
      "metadata": {
        "id": "zXu_rLZ32D6V"
      },
      "outputs": [],
      "source": [
        "import numpy as np\n",
        "import matplotlib.pyplot as plt"
      ]
    },
    {
      "cell_type": "markdown",
      "source": [
        "An ellipse with major axis $a$ and minor axis $b$ oriented so that the major axis makes an angle of $\\Delta \\theta$ to the x-axis is defined by the polar equation\n",
        "\n",
        "$r(\\theta) = \\frac{a b }{\\sqrt{a^2 \\sin^2(\\theta-\\Delta \\theta) + b^2 \\cos^2(\\theta-\\Delta \\theta)}}$\n",
        "\n",
        "with the usual definition\n",
        "\n",
        "$x = r \\cos (\\theta)$\n",
        "\n",
        "$y = r \\sin (\\theta)$\n",
        "\n",
        "Please write a function that gives the x and y position of the points on an ellipse given $a$, $b$, $\\Delta \\theta$ and Npts, the number of evenly spaced (in $\\theta$ points on the ellipse). Npts should default to 100\n"
      ],
      "metadata": {
        "id": "DiIg_uve2HgY"
      }
    },
    {
      "cell_type": "code",
      "source": [
        "def ellipseWithTilt (a, b, dtheta, Npts = 100):\n",
        "  #ellipseWithTilt (a, b, dtheta, Npts = 100):\n",
        "  #a = major axis\n",
        "  #b = minor axis\n",
        "  #dtheta = angle between major axis and x axis\n",
        "  #Npts = number of evenly spaced (in theta) points\n",
        "  # i.e. theta = linspace(0,2pi,Npts)\n",
        "  # returns x,y - the cartesian points on the ellipse\n",
        "\n",
        "  #your code here\n",
        "\n",
        "#if your code works, the following will produce an ellipse with major axis 10 and minor axis 2 oriented at 30 degrees to the positive x-axis\n",
        "\n",
        "x,y = ellipseWithTilt(10,2,np.pi/6, 200)\n",
        "plt.plot(x,y)\n",
        "plt.gca().set_aspect('equal', adjustable='box') #makes x and y axis scale equally\n",
        "plt.show()"
      ],
      "metadata": {
        "colab": {
          "base_uri": "https://localhost:8080/",
          "height": 251
        },
        "id": "ivcYQKlz3Y6A",
        "outputId": "f3e79a5d-122d-4256-80c7-73de916a3f1f"
      },
      "execution_count": null,
      "outputs": [
        {
          "output_type": "display_data",
          "data": {
            "text/plain": [
              "<Figure size 432x288 with 1 Axes>"
            ],
            "image/png": "[encoded data removed]"
          },
          "metadata": {
            "needs_background": "light"
          }
        }
      ]
    }
  ]
}